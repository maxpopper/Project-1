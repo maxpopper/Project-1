{
 "cells": [
  {
   "cell_type": "code",
   "execution_count": 55,
   "id": "1ba4b389",
   "metadata": {},
   "outputs": [],
   "source": [
    "import numpy as np\n",
    "import pandas as pd\n",
    "import matplotlib.pyplot as plt\n",
    "import scipy.stats as stats\n",
    "from sklearn.linear_model import LinearRegression\n",
    "from sklearn.model_selection import train_test_split\n",
    "from sklearn.metrics import r2_score"
   ]
  },
  {
   "cell_type": "code",
   "execution_count": 56,
   "id": "c699c7c8",
   "metadata": {},
   "outputs": [
    {
     "data": {
      "text/html": [
       "<div>\n",
       "<style scoped>\n",
       "    .dataframe tbody tr th:only-of-type {\n",
       "        vertical-align: middle;\n",
       "    }\n",
       "\n",
       "    .dataframe tbody tr th {\n",
       "        vertical-align: top;\n",
       "    }\n",
       "\n",
       "    .dataframe thead th {\n",
       "        text-align: right;\n",
       "    }\n",
       "</style>\n",
       "<table border=\"1\" class=\"dataframe\">\n",
       "  <thead>\n",
       "    <tr style=\"text-align: right;\">\n",
       "      <th></th>\n",
       "      <th>Player</th>\n",
       "      <th>VORP</th>\n",
       "      <th>HOF?</th>\n",
       "      <th>PPG*SP</th>\n",
       "      <th>RPG*SP</th>\n",
       "      <th>APG*SP</th>\n",
       "      <th>MPG*SP</th>\n",
       "      <th>FGPG*SP</th>\n",
       "      <th>GPS</th>\n",
       "    </tr>\n",
       "  </thead>\n",
       "  <tbody>\n",
       "    <tr>\n",
       "      <th>0</th>\n",
       "      <td>Álex Abrines</td>\n",
       "      <td>0.1</td>\n",
       "      <td>0</td>\n",
       "      <td>15.9</td>\n",
       "      <td>4.2</td>\n",
       "      <td>1.5</td>\n",
       "      <td>48.0</td>\n",
       "      <td>5.4</td>\n",
       "      <td>58.0</td>\n",
       "    </tr>\n",
       "    <tr>\n",
       "      <th>1</th>\n",
       "      <td>Jaylen Adams</td>\n",
       "      <td>-0.3</td>\n",
       "      <td>0</td>\n",
       "      <td>5.4</td>\n",
       "      <td>3.0</td>\n",
       "      <td>3.2</td>\n",
       "      <td>21.8</td>\n",
       "      <td>2.0</td>\n",
       "      <td>20.5</td>\n",
       "    </tr>\n",
       "    <tr>\n",
       "      <th>2</th>\n",
       "      <td>LaMarcus Aldridge</td>\n",
       "      <td>33.4</td>\n",
       "      <td>0</td>\n",
       "      <td>305.6</td>\n",
       "      <td>129.6</td>\n",
       "      <td>30.4</td>\n",
       "      <td>539.2</td>\n",
       "      <td>123.2</td>\n",
       "      <td>67.2</td>\n",
       "    </tr>\n",
       "    <tr>\n",
       "      <th>3</th>\n",
       "      <td>Shandon Anderson</td>\n",
       "      <td>3.0</td>\n",
       "      <td>0</td>\n",
       "      <td>74.0</td>\n",
       "      <td>31.0</td>\n",
       "      <td>14.0</td>\n",
       "      <td>222.0</td>\n",
       "      <td>28.0</td>\n",
       "      <td>71.9</td>\n",
       "    </tr>\n",
       "    <tr>\n",
       "      <th>4</th>\n",
       "      <td>Carmelo Anthony</td>\n",
       "      <td>36.7</td>\n",
       "      <td>0</td>\n",
       "      <td>427.5</td>\n",
       "      <td>117.8</td>\n",
       "      <td>51.3</td>\n",
       "      <td>655.5</td>\n",
       "      <td>152.0</td>\n",
       "      <td>66.3</td>\n",
       "    </tr>\n",
       "    <tr>\n",
       "      <th>...</th>\n",
       "      <td>...</td>\n",
       "      <td>...</td>\n",
       "      <td>...</td>\n",
       "      <td>...</td>\n",
       "      <td>...</td>\n",
       "      <td>...</td>\n",
       "      <td>...</td>\n",
       "      <td>...</td>\n",
       "      <td>...</td>\n",
       "    </tr>\n",
       "    <tr>\n",
       "      <th>194</th>\n",
       "      <td>Trevor Winter</td>\n",
       "      <td>0.0</td>\n",
       "      <td>0</td>\n",
       "      <td>0.0</td>\n",
       "      <td>3.0</td>\n",
       "      <td>0.0</td>\n",
       "      <td>5.0</td>\n",
       "      <td>0.0</td>\n",
       "      <td>1.0</td>\n",
       "    </tr>\n",
       "    <tr>\n",
       "      <th>195</th>\n",
       "      <td>Luther Wright</td>\n",
       "      <td>-0.2</td>\n",
       "      <td>0</td>\n",
       "      <td>1.3</td>\n",
       "      <td>0.7</td>\n",
       "      <td>0.0</td>\n",
       "      <td>6.1</td>\n",
       "      <td>0.5</td>\n",
       "      <td>15.0</td>\n",
       "    </tr>\n",
       "    <tr>\n",
       "      <th>196</th>\n",
       "      <td>Danny Young</td>\n",
       "      <td>6.6</td>\n",
       "      <td>0</td>\n",
       "      <td>46.0</td>\n",
       "      <td>12.0</td>\n",
       "      <td>29.0</td>\n",
       "      <td>166.0</td>\n",
       "      <td>17.0</td>\n",
       "      <td>57.4</td>\n",
       "    </tr>\n",
       "    <tr>\n",
       "      <th>197</th>\n",
       "      <td>Michael Young</td>\n",
       "      <td>0.2</td>\n",
       "      <td>0</td>\n",
       "      <td>13.8</td>\n",
       "      <td>5.4</td>\n",
       "      <td>1.5</td>\n",
       "      <td>28.8</td>\n",
       "      <td>5.7</td>\n",
       "      <td>16.3</td>\n",
       "    </tr>\n",
       "    <tr>\n",
       "      <th>198</th>\n",
       "      <td>Wang Zhizhi</td>\n",
       "      <td>0.1</td>\n",
       "      <td>0</td>\n",
       "      <td>22.0</td>\n",
       "      <td>8.5</td>\n",
       "      <td>1.5</td>\n",
       "      <td>46.0</td>\n",
       "      <td>8.0</td>\n",
       "      <td>27.4</td>\n",
       "    </tr>\n",
       "  </tbody>\n",
       "</table>\n",
       "<p>199 rows × 9 columns</p>\n",
       "</div>"
      ],
      "text/plain": [
       "                Player  VORP  HOF?  PPG*SP  RPG*SP  APG*SP  MPG*SP  FGPG*SP  \\\n",
       "0         Álex Abrines   0.1     0    15.9     4.2     1.5    48.0      5.4   \n",
       "1         Jaylen Adams  -0.3     0     5.4     3.0     3.2    21.8      2.0   \n",
       "2    LaMarcus Aldridge  33.4     0   305.6   129.6    30.4   539.2    123.2   \n",
       "3     Shandon Anderson   3.0     0    74.0    31.0    14.0   222.0     28.0   \n",
       "4      Carmelo Anthony  36.7     0   427.5   117.8    51.3   655.5    152.0   \n",
       "..                 ...   ...   ...     ...     ...     ...     ...      ...   \n",
       "194      Trevor Winter   0.0     0     0.0     3.0     0.0     5.0      0.0   \n",
       "195      Luther Wright  -0.2     0     1.3     0.7     0.0     6.1      0.5   \n",
       "196        Danny Young   6.6     0    46.0    12.0    29.0   166.0     17.0   \n",
       "197      Michael Young   0.2     0    13.8     5.4     1.5    28.8      5.7   \n",
       "198        Wang Zhizhi   0.1     0    22.0     8.5     1.5    46.0      8.0   \n",
       "\n",
       "      GPS  \n",
       "0    58.0  \n",
       "1    20.5  \n",
       "2    67.2  \n",
       "3    71.9  \n",
       "4    66.3  \n",
       "..    ...  \n",
       "194   1.0  \n",
       "195  15.0  \n",
       "196  57.4  \n",
       "197  16.3  \n",
       "198  27.4  \n",
       "\n",
       "[199 rows x 9 columns]"
      ]
     },
     "execution_count": 56,
     "metadata": {},
     "output_type": "execute_result"
    }
   ],
   "source": [
    "vorp_df = pd.read_csv(\"vorp_dataset_final.csv\").drop(columns = [\"Unnamed: 0\"])\n",
    "vorp_df[\"GPS\"] = round(vorp_df[\"GPS\"], 1)\n",
    "vorp_df"
   ]
  },
  {
   "cell_type": "code",
   "execution_count": 57,
   "id": "edf2e938",
   "metadata": {},
   "outputs": [
    {
     "data": {
      "text/plain": [
       "0       0.1\n",
       "1      -0.3\n",
       "2      33.4\n",
       "3       3.0\n",
       "4      36.7\n",
       "       ... \n",
       "194     0.0\n",
       "195    -0.2\n",
       "196     6.6\n",
       "197     0.2\n",
       "198     0.1\n",
       "Name: VORP, Length: 199, dtype: float64"
      ]
     },
     "execution_count": 57,
     "metadata": {},
     "output_type": "execute_result"
    }
   ],
   "source": [
    "X = vorp_df.drop(columns = ['Player', 'VORP'])\n",
    "y = vorp_df['VORP']\n",
    "y"
   ]
  },
  {
   "cell_type": "code",
   "execution_count": 58,
   "id": "e5578ac4",
   "metadata": {},
   "outputs": [],
   "source": [
    "X_train, X_test, y_train, y_test = train_test_split(X,y, test_size = 0.3, random_state = 0)"
   ]
  },
  {
   "cell_type": "code",
   "execution_count": 59,
   "id": "b0d9b1ac",
   "metadata": {},
   "outputs": [],
   "source": [
    "lr = LinearRegression()"
   ]
  },
  {
   "cell_type": "code",
   "execution_count": 60,
   "id": "2b460b37",
   "metadata": {},
   "outputs": [
    {
     "data": {
      "text/html": [
       "<style>#sk-container-id-2 {color: black;}#sk-container-id-2 pre{padding: 0;}#sk-container-id-2 div.sk-toggleable {background-color: white;}#sk-container-id-2 label.sk-toggleable__label {cursor: pointer;display: block;width: 100%;margin-bottom: 0;padding: 0.3em;box-sizing: border-box;text-align: center;}#sk-container-id-2 label.sk-toggleable__label-arrow:before {content: \"▸\";float: left;margin-right: 0.25em;color: #696969;}#sk-container-id-2 label.sk-toggleable__label-arrow:hover:before {color: black;}#sk-container-id-2 div.sk-estimator:hover label.sk-toggleable__label-arrow:before {color: black;}#sk-container-id-2 div.sk-toggleable__content {max-height: 0;max-width: 0;overflow: hidden;text-align: left;background-color: #f0f8ff;}#sk-container-id-2 div.sk-toggleable__content pre {margin: 0.2em;color: black;border-radius: 0.25em;background-color: #f0f8ff;}#sk-container-id-2 input.sk-toggleable__control:checked~div.sk-toggleable__content {max-height: 200px;max-width: 100%;overflow: auto;}#sk-container-id-2 input.sk-toggleable__control:checked~label.sk-toggleable__label-arrow:before {content: \"▾\";}#sk-container-id-2 div.sk-estimator input.sk-toggleable__control:checked~label.sk-toggleable__label {background-color: #d4ebff;}#sk-container-id-2 div.sk-label input.sk-toggleable__control:checked~label.sk-toggleable__label {background-color: #d4ebff;}#sk-container-id-2 input.sk-hidden--visually {border: 0;clip: rect(1px 1px 1px 1px);clip: rect(1px, 1px, 1px, 1px);height: 1px;margin: -1px;overflow: hidden;padding: 0;position: absolute;width: 1px;}#sk-container-id-2 div.sk-estimator {font-family: monospace;background-color: #f0f8ff;border: 1px dotted black;border-radius: 0.25em;box-sizing: border-box;margin-bottom: 0.5em;}#sk-container-id-2 div.sk-estimator:hover {background-color: #d4ebff;}#sk-container-id-2 div.sk-parallel-item::after {content: \"\";width: 100%;border-bottom: 1px solid gray;flex-grow: 1;}#sk-container-id-2 div.sk-label:hover label.sk-toggleable__label {background-color: #d4ebff;}#sk-container-id-2 div.sk-serial::before {content: \"\";position: absolute;border-left: 1px solid gray;box-sizing: border-box;top: 0;bottom: 0;left: 50%;z-index: 0;}#sk-container-id-2 div.sk-serial {display: flex;flex-direction: column;align-items: center;background-color: white;padding-right: 0.2em;padding-left: 0.2em;position: relative;}#sk-container-id-2 div.sk-item {position: relative;z-index: 1;}#sk-container-id-2 div.sk-parallel {display: flex;align-items: stretch;justify-content: center;background-color: white;position: relative;}#sk-container-id-2 div.sk-item::before, #sk-container-id-2 div.sk-parallel-item::before {content: \"\";position: absolute;border-left: 1px solid gray;box-sizing: border-box;top: 0;bottom: 0;left: 50%;z-index: -1;}#sk-container-id-2 div.sk-parallel-item {display: flex;flex-direction: column;z-index: 1;position: relative;background-color: white;}#sk-container-id-2 div.sk-parallel-item:first-child::after {align-self: flex-end;width: 50%;}#sk-container-id-2 div.sk-parallel-item:last-child::after {align-self: flex-start;width: 50%;}#sk-container-id-2 div.sk-parallel-item:only-child::after {width: 0;}#sk-container-id-2 div.sk-dashed-wrapped {border: 1px dashed gray;margin: 0 0.4em 0.5em 0.4em;box-sizing: border-box;padding-bottom: 0.4em;background-color: white;}#sk-container-id-2 div.sk-label label {font-family: monospace;font-weight: bold;display: inline-block;line-height: 1.2em;}#sk-container-id-2 div.sk-label-container {text-align: center;}#sk-container-id-2 div.sk-container {/* jupyter's `normalize.less` sets `[hidden] { display: none; }` but bootstrap.min.css set `[hidden] { display: none !important; }` so we also need the `!important` here to be able to override the default hidden behavior on the sphinx rendered scikit-learn.org. See: https://github.com/scikit-learn/scikit-learn/issues/21755 */display: inline-block !important;position: relative;}#sk-container-id-2 div.sk-text-repr-fallback {display: none;}</style><div id=\"sk-container-id-2\" class=\"sk-top-container\"><div class=\"sk-text-repr-fallback\"><pre>LinearRegression()</pre><b>In a Jupyter environment, please rerun this cell to show the HTML representation or trust the notebook. <br />On GitHub, the HTML representation is unable to render, please try loading this page with nbviewer.org.</b></div><div class=\"sk-container\" hidden><div class=\"sk-item\"><div class=\"sk-estimator sk-toggleable\"><input class=\"sk-toggleable__control sk-hidden--visually\" id=\"sk-estimator-id-2\" type=\"checkbox\" checked><label for=\"sk-estimator-id-2\" class=\"sk-toggleable__label sk-toggleable__label-arrow\">LinearRegression</label><div class=\"sk-toggleable__content\"><pre>LinearRegression()</pre></div></div></div></div></div>"
      ],
      "text/plain": [
       "LinearRegression()"
      ]
     },
     "execution_count": 60,
     "metadata": {},
     "output_type": "execute_result"
    }
   ],
   "source": [
    "lr.fit(X_train, y_train)"
   ]
  },
  {
   "cell_type": "code",
   "execution_count": 61,
   "id": "b6da2dd6",
   "metadata": {},
   "outputs": [
    {
     "data": {
      "text/plain": [
       "-0.7633913275421014"
      ]
     },
     "execution_count": 61,
     "metadata": {},
     "output_type": "execute_result"
    }
   ],
   "source": [
    "c = lr.intercept_\n",
    "c"
   ]
  },
  {
   "cell_type": "code",
   "execution_count": 62,
   "id": "b7bb7246",
   "metadata": {},
   "outputs": [],
   "source": [
    "m = lr.coef_\n",
    "m\n",
    "hof_coef = m[0]\n",
    "ppgsp_coef = m[1]\n",
    "rpgsp_coef = m[2]\n",
    "apgsp_coef = m[3]\n",
    "mpgsp_coef = m[4]\n",
    "fgpgsp_coef = m[5]\n",
    "gps_coef = m[6]"
   ]
  },
  {
   "cell_type": "code",
   "execution_count": 63,
   "id": "a336fce1",
   "metadata": {},
   "outputs": [
    {
     "data": {
      "text/plain": [
       "139"
      ]
     },
     "execution_count": 63,
     "metadata": {},
     "output_type": "execute_result"
    }
   ],
   "source": [
    "y_pred_train = lr.predict(X_train)\n",
    "len(y_pred_train)\n"
   ]
  },
  {
   "cell_type": "code",
   "execution_count": 64,
   "id": "a76367e4",
   "metadata": {},
   "outputs": [
    {
     "data": {
      "image/png": "[encoded data removed]",
      "text/plain": [
       "<Figure size 640x480 with 1 Axes>"
      ]
     },
     "metadata": {},
     "output_type": "display_data"
    }
   ],
   "source": [
    "plt.scatter(y_train, y_pred_train, color='red')\n",
    "plt.xlabel(\"Actual VORP\")\n",
    "plt.ylabel(\"Predicted VORP\")\n",
    "plt.show()"
   ]
  },
  {
   "cell_type": "code",
   "execution_count": 65,
   "id": "ded2c724",
   "metadata": {},
   "outputs": [
    {
     "data": {
      "text/plain": [
       "0.88053635920492"
      ]
     },
     "execution_count": 65,
     "metadata": {},
     "output_type": "execute_result"
    }
   ],
   "source": [
    "r2_score(y_train, y_pred_train)"
   ]
  },
  {
   "cell_type": "code",
   "execution_count": 66,
   "id": "5754d9b6",
   "metadata": {},
   "outputs": [
    {
     "data": {
      "image/png": "[encoded data removed]",
      "text/plain": [
       "<Figure size 640x480 with 1 Axes>"
      ]
     },
     "metadata": {},
     "output_type": "display_data"
    }
   ],
   "source": [
    "y_pred_test = lr.predict(X_test)\n",
    "plt.scatter(y_test, y_pred_test)\n",
    "plt.xlabel(\"Actual VORP\")\n",
    "plt.ylabel(\"Predicted VORP\")\n",
    "plt.show()"
   ]
  },
  {
   "cell_type": "code",
   "execution_count": 67,
   "id": "a1a5b934",
   "metadata": {},
   "outputs": [],
   "source": [
    "vorp_df['Predicted_VORP'] = (c + (vorp_df['HOF?']*hof_coef) + (vorp_df['PPG*SP']*ppgsp_coef) \n",
    "                             + (vorp_df['RPG*SP']*rpgsp_coef) + (vorp_df['APG*SP']*apgsp_coef) \n",
    "                             + (vorp_df['MPG*SP']*mpgsp_coef) + (vorp_df['FGPG*SP']*fgpgsp_coef) \n",
    "                             + (vorp_df['GPS']*gps_coef))\n",
    "\n",
    "vorp_df['Predicted_VORP'] = round(vorp_df['Predicted_VORP'], 1)"
   ]
  },
  {
   "cell_type": "code",
   "execution_count": 68,
   "id": "338e881d",
   "metadata": {
    "scrolled": true
   },
   "outputs": [
    {
     "data": {
      "text/html": [
       "<div>\n",
       "<style scoped>\n",
       "    .dataframe tbody tr th:only-of-type {\n",
       "        vertical-align: middle;\n",
       "    }\n",
       "\n",
       "    .dataframe tbody tr th {\n",
       "        vertical-align: top;\n",
       "    }\n",
       "\n",
       "    .dataframe thead th {\n",
       "        text-align: right;\n",
       "    }\n",
       "</style>\n",
       "<table border=\"1\" class=\"dataframe\">\n",
       "  <thead>\n",
       "    <tr style=\"text-align: right;\">\n",
       "      <th></th>\n",
       "      <th>Player</th>\n",
       "      <th>VORP</th>\n",
       "      <th>HOF?</th>\n",
       "      <th>PPG*SP</th>\n",
       "      <th>RPG*SP</th>\n",
       "      <th>APG*SP</th>\n",
       "      <th>MPG*SP</th>\n",
       "      <th>FGPG*SP</th>\n",
       "      <th>GPS</th>\n",
       "      <th>Predicted_VORP</th>\n",
       "    </tr>\n",
       "  </thead>\n",
       "  <tbody>\n",
       "    <tr>\n",
       "      <th>0</th>\n",
       "      <td>Álex Abrines</td>\n",
       "      <td>0.1</td>\n",
       "      <td>0</td>\n",
       "      <td>15.9</td>\n",
       "      <td>4.2</td>\n",
       "      <td>1.5</td>\n",
       "      <td>48.0</td>\n",
       "      <td>5.4</td>\n",
       "      <td>58.0</td>\n",
       "      <td>-2.4</td>\n",
       "    </tr>\n",
       "    <tr>\n",
       "      <th>1</th>\n",
       "      <td>Jaylen Adams</td>\n",
       "      <td>-0.3</td>\n",
       "      <td>0</td>\n",
       "      <td>5.4</td>\n",
       "      <td>3.0</td>\n",
       "      <td>3.2</td>\n",
       "      <td>21.8</td>\n",
       "      <td>2.0</td>\n",
       "      <td>20.5</td>\n",
       "      <td>-0.4</td>\n",
       "    </tr>\n",
       "    <tr>\n",
       "      <th>2</th>\n",
       "      <td>LaMarcus Aldridge</td>\n",
       "      <td>33.4</td>\n",
       "      <td>0</td>\n",
       "      <td>305.6</td>\n",
       "      <td>129.6</td>\n",
       "      <td>30.4</td>\n",
       "      <td>539.2</td>\n",
       "      <td>123.2</td>\n",
       "      <td>67.2</td>\n",
       "      <td>22.1</td>\n",
       "    </tr>\n",
       "    <tr>\n",
       "      <th>3</th>\n",
       "      <td>Shandon Anderson</td>\n",
       "      <td>3.0</td>\n",
       "      <td>0</td>\n",
       "      <td>74.0</td>\n",
       "      <td>31.0</td>\n",
       "      <td>14.0</td>\n",
       "      <td>222.0</td>\n",
       "      <td>28.0</td>\n",
       "      <td>71.9</td>\n",
       "      <td>0.8</td>\n",
       "    </tr>\n",
       "    <tr>\n",
       "      <th>4</th>\n",
       "      <td>Carmelo Anthony</td>\n",
       "      <td>36.7</td>\n",
       "      <td>0</td>\n",
       "      <td>427.5</td>\n",
       "      <td>117.8</td>\n",
       "      <td>51.3</td>\n",
       "      <td>655.5</td>\n",
       "      <td>152.0</td>\n",
       "      <td>66.3</td>\n",
       "      <td>40.8</td>\n",
       "    </tr>\n",
       "    <tr>\n",
       "      <th>...</th>\n",
       "      <td>...</td>\n",
       "      <td>...</td>\n",
       "      <td>...</td>\n",
       "      <td>...</td>\n",
       "      <td>...</td>\n",
       "      <td>...</td>\n",
       "      <td>...</td>\n",
       "      <td>...</td>\n",
       "      <td>...</td>\n",
       "      <td>...</td>\n",
       "    </tr>\n",
       "    <tr>\n",
       "      <th>194</th>\n",
       "      <td>Trevor Winter</td>\n",
       "      <td>0.0</td>\n",
       "      <td>0</td>\n",
       "      <td>0.0</td>\n",
       "      <td>3.0</td>\n",
       "      <td>0.0</td>\n",
       "      <td>5.0</td>\n",
       "      <td>0.0</td>\n",
       "      <td>1.0</td>\n",
       "      <td>-0.5</td>\n",
       "    </tr>\n",
       "    <tr>\n",
       "      <th>195</th>\n",
       "      <td>Luther Wright</td>\n",
       "      <td>-0.2</td>\n",
       "      <td>0</td>\n",
       "      <td>1.3</td>\n",
       "      <td>0.7</td>\n",
       "      <td>0.0</td>\n",
       "      <td>6.1</td>\n",
       "      <td>0.5</td>\n",
       "      <td>15.0</td>\n",
       "      <td>-1.3</td>\n",
       "    </tr>\n",
       "    <tr>\n",
       "      <th>196</th>\n",
       "      <td>Danny Young</td>\n",
       "      <td>6.6</td>\n",
       "      <td>0</td>\n",
       "      <td>46.0</td>\n",
       "      <td>12.0</td>\n",
       "      <td>29.0</td>\n",
       "      <td>166.0</td>\n",
       "      <td>17.0</td>\n",
       "      <td>57.4</td>\n",
       "      <td>4.4</td>\n",
       "    </tr>\n",
       "    <tr>\n",
       "      <th>197</th>\n",
       "      <td>Michael Young</td>\n",
       "      <td>0.2</td>\n",
       "      <td>0</td>\n",
       "      <td>13.8</td>\n",
       "      <td>5.4</td>\n",
       "      <td>1.5</td>\n",
       "      <td>28.8</td>\n",
       "      <td>5.7</td>\n",
       "      <td>16.3</td>\n",
       "      <td>-0.6</td>\n",
       "    </tr>\n",
       "    <tr>\n",
       "      <th>198</th>\n",
       "      <td>Wang Zhizhi</td>\n",
       "      <td>0.1</td>\n",
       "      <td>0</td>\n",
       "      <td>22.0</td>\n",
       "      <td>8.5</td>\n",
       "      <td>1.5</td>\n",
       "      <td>46.0</td>\n",
       "      <td>8.0</td>\n",
       "      <td>27.4</td>\n",
       "      <td>-0.1</td>\n",
       "    </tr>\n",
       "  </tbody>\n",
       "</table>\n",
       "<p>199 rows × 10 columns</p>\n",
       "</div>"
      ],
      "text/plain": [
       "                Player  VORP  HOF?  PPG*SP  RPG*SP  APG*SP  MPG*SP  FGPG*SP  \\\n",
       "0         Álex Abrines   0.1     0    15.9     4.2     1.5    48.0      5.4   \n",
       "1         Jaylen Adams  -0.3     0     5.4     3.0     3.2    21.8      2.0   \n",
       "2    LaMarcus Aldridge  33.4     0   305.6   129.6    30.4   539.2    123.2   \n",
       "3     Shandon Anderson   3.0     0    74.0    31.0    14.0   222.0     28.0   \n",
       "4      Carmelo Anthony  36.7     0   427.5   117.8    51.3   655.5    152.0   \n",
       "..                 ...   ...   ...     ...     ...     ...     ...      ...   \n",
       "194      Trevor Winter   0.0     0     0.0     3.0     0.0     5.0      0.0   \n",
       "195      Luther Wright  -0.2     0     1.3     0.7     0.0     6.1      0.5   \n",
       "196        Danny Young   6.6     0    46.0    12.0    29.0   166.0     17.0   \n",
       "197      Michael Young   0.2     0    13.8     5.4     1.5    28.8      5.7   \n",
       "198        Wang Zhizhi   0.1     0    22.0     8.5     1.5    46.0      8.0   \n",
       "\n",
       "      GPS  Predicted_VORP  \n",
       "0    58.0            -2.4  \n",
       "1    20.5            -0.4  \n",
       "2    67.2            22.1  \n",
       "3    71.9             0.8  \n",
       "4    66.3            40.8  \n",
       "..    ...             ...  \n",
       "194   1.0            -0.5  \n",
       "195  15.0            -1.3  \n",
       "196  57.4             4.4  \n",
       "197  16.3            -0.6  \n",
       "198  27.4            -0.1  \n",
       "\n",
       "[199 rows x 10 columns]"
      ]
     },
     "execution_count": 68,
     "metadata": {},
     "output_type": "execute_result"
    }
   ],
   "source": [
    "vorp_df"
   ]
  },
  {
   "cell_type": "code",
   "execution_count": 70,
   "id": "2709be8e",
   "metadata": {
    "scrolled": true
   },
   "outputs": [
    {
     "data": {
      "image/png": "[encoded data removed]",
      "text/plain": [
       "<Figure size 640x480 with 1 Axes>"
      ]
     },
     "metadata": {},
     "output_type": "display_data"
    },
    {
     "data": {
      "image/png": "[encoded data removed]",
      "text/plain": [
       "<Figure size 1000x700 with 1 Axes>"
      ]
     },
     "metadata": {},
     "output_type": "display_data"
    }
   ],
   "source": [
    "\n",
    "boxplot = vorp_df.boxplot(column=['VORP','Predicted_VORP'])\n",
    "vorp_bxp= [vorp_df[\"VORP\"],vorp_df[\"Predicted_VORP\"]]\n",
    "fig = plt.figure(figsize =(10, 7))\n",
    "ax = fig.add_axes([0, 0, 1, 1])\n",
    "bp = ax.boxplot(vorp_bxp)\n",
    "# plt.boxplot(vorp_bxp)\n",
    "plt.show()\n",
    "\n",
    "\n",
    "# data.columns=df.plot('VORP')\n",
    "\n",
    "# VRP=vorp_df[\"VORP\"]\n",
    "# P_VRP=vorp_df[\"Predicted_VORP\"]\n",
    "# plt.boxplot(VRP,P_VRP)\n",
    "# plt.show()\n",
    "\n",
    "# df= vorp_df.boxplot(columns=\"VORP\", by=\"Predicted_VORP\", figsize=(8,4))\n",
    "# df.set_ylabel(\"VORP\")\n",
    "# df.set_title(\"\")"
   ]
  },
  {
   "cell_type": "code",
   "execution_count": null,
   "id": "83fa3c2e",
   "metadata": {},
   "outputs": [],
   "source": []
  },
  {
   "cell_type": "code",
   "execution_count": null,
   "id": "64f8b24b",
   "metadata": {},
   "outputs": [],
   "source": []
  }
 ],
 "metadata": {
  "kernelspec": {
   "display_name": "Python 3 (ipykernel)",
   "language": "python",
   "name": "python3"
  },
  "language_info": {
   "codemirror_mode": {
    "name": "ipython",
    "version": 3
   },
   "file_extension": ".py",
   "mimetype": "text/x-python",
   "name": "python",
   "nbconvert_exporter": "python",
   "pygments_lexer": "ipython3",
   "version": "3.11.5"
  }
 },
 "nbformat": 4,
 "nbformat_minor": 5
}
