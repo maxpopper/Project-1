{
 "cells": [
  {
   "cell_type": "code",
   "execution_count": 5,
   "id": "2dab4037",
   "metadata": {},
   "outputs": [],
   "source": [
    "import numpy as np\n",
    "import pandas as pd\n",
    "import matplotlib.pyplot as plt\n",
    "import scipy.stats as stats"
   ]
  },
  {
   "cell_type": "code",
   "execution_count": 6,
   "id": "b63b2a8c",
   "metadata": {},
   "outputs": [
    {
     "data": {
      "text/html": [
       "<div>\n",
       "<style scoped>\n",
       "    .dataframe tbody tr th:only-of-type {\n",
       "        vertical-align: middle;\n",
       "    }\n",
       "\n",
       "    .dataframe tbody tr th {\n",
       "        vertical-align: top;\n",
       "    }\n",
       "\n",
       "    .dataframe thead th {\n",
       "        text-align: right;\n",
       "    }\n",
       "</style>\n",
       "<table border=\"1\" class=\"dataframe\">\n",
       "  <thead>\n",
       "    <tr style=\"text-align: right;\">\n",
       "      <th></th>\n",
       "      <th>Player</th>\n",
       "      <th>Career VORP</th>\n",
       "      <th>Seasons Played</th>\n",
       "      <th>Total Career Games</th>\n",
       "      <th>Points per Game</th>\n",
       "      <th>Rebounds per Game</th>\n",
       "      <th>Assists per Game</th>\n",
       "      <th>Field Goal %</th>\n",
       "      <th>Minutes per Game</th>\n",
       "      <th>Field Goals per Game</th>\n",
       "      <th>Championships</th>\n",
       "      <th>HOF?</th>\n",
       "    </tr>\n",
       "  </thead>\n",
       "  <tbody>\n",
       "    <tr>\n",
       "      <th>0</th>\n",
       "      <td>Álex Abrines</td>\n",
       "      <td>0.1</td>\n",
       "      <td>3</td>\n",
       "      <td>174</td>\n",
       "      <td>5.3</td>\n",
       "      <td>1.4</td>\n",
       "      <td>0.5</td>\n",
       "      <td>38.7%</td>\n",
       "      <td>16.0</td>\n",
       "      <td>1.8</td>\n",
       "      <td>0</td>\n",
       "      <td>False</td>\n",
       "    </tr>\n",
       "    <tr>\n",
       "      <th>1</th>\n",
       "      <td>Jaylen Adams</td>\n",
       "      <td>-0.3</td>\n",
       "      <td>2</td>\n",
       "      <td>41</td>\n",
       "      <td>2.7</td>\n",
       "      <td>1.5</td>\n",
       "      <td>1.6</td>\n",
       "      <td>33.1%</td>\n",
       "      <td>10.9</td>\n",
       "      <td>1.0</td>\n",
       "      <td>0</td>\n",
       "      <td>False</td>\n",
       "    </tr>\n",
       "    <tr>\n",
       "      <th>2</th>\n",
       "      <td>LaMarcus Aldridge</td>\n",
       "      <td>33.4</td>\n",
       "      <td>16</td>\n",
       "      <td>1076</td>\n",
       "      <td>19.1</td>\n",
       "      <td>8.1</td>\n",
       "      <td>1.9</td>\n",
       "      <td>49.3%</td>\n",
       "      <td>33.7</td>\n",
       "      <td>7.7</td>\n",
       "      <td>0</td>\n",
       "      <td>False</td>\n",
       "    </tr>\n",
       "    <tr>\n",
       "      <th>3</th>\n",
       "      <td>Shandon Anderson</td>\n",
       "      <td>3.0</td>\n",
       "      <td>10</td>\n",
       "      <td>719</td>\n",
       "      <td>7.4</td>\n",
       "      <td>3.1</td>\n",
       "      <td>1.4</td>\n",
       "      <td>45.7%</td>\n",
       "      <td>22.2</td>\n",
       "      <td>2.8</td>\n",
       "      <td>1</td>\n",
       "      <td>False</td>\n",
       "    </tr>\n",
       "    <tr>\n",
       "      <th>4</th>\n",
       "      <td>Carmelo Anthony</td>\n",
       "      <td>36.7</td>\n",
       "      <td>19</td>\n",
       "      <td>1260</td>\n",
       "      <td>22.5</td>\n",
       "      <td>6.2</td>\n",
       "      <td>2.7</td>\n",
       "      <td>44.7%</td>\n",
       "      <td>34.5</td>\n",
       "      <td>8.0</td>\n",
       "      <td>0</td>\n",
       "      <td>False</td>\n",
       "    </tr>\n",
       "  </tbody>\n",
       "</table>\n",
       "</div>"
      ],
      "text/plain": [
       "              Player  Career VORP  Seasons Played  Total Career Games  \\\n",
       "0       Álex Abrines          0.1               3                 174   \n",
       "1       Jaylen Adams         -0.3               2                  41   \n",
       "2  LaMarcus Aldridge         33.4              16                1076   \n",
       "3   Shandon Anderson          3.0              10                 719   \n",
       "4    Carmelo Anthony         36.7              19                1260   \n",
       "\n",
       "   Points per Game  Rebounds per Game  Assists per Game Field Goal %  \\\n",
       "0              5.3                1.4               0.5        38.7%   \n",
       "1              2.7                1.5               1.6        33.1%   \n",
       "2             19.1                8.1               1.9        49.3%   \n",
       "3              7.4                3.1               1.4        45.7%   \n",
       "4             22.5                6.2               2.7        44.7%   \n",
       "\n",
       "   Minutes per Game  Field Goals per Game  Championships   HOF?  \n",
       "0              16.0                   1.8              0  False  \n",
       "1              10.9                   1.0              0  False  \n",
       "2              33.7                   7.7              0  False  \n",
       "3              22.2                   2.8              1  False  \n",
       "4              34.5                   8.0              0  False  "
      ]
     },
     "execution_count": 6,
     "metadata": {},
     "output_type": "execute_result"
    }
   ],
   "source": [
    "vorp_df = pd.read_csv(\"2023-VORP-Sheet1.csv\")\n",
    "vorp_df.head()"
   ]
  },
  {
   "cell_type": "code",
   "execution_count": 1,
   "id": "f6ee3fc8",
   "metadata": {},
   "outputs": [
    {
     "name": "stdout",
     "output_type": "stream",
     "text": [
      "hello world\n"
     ]
    }
   ],
   "source": [
    "print(\"hello world\")"
   ]
  },
  {
   "cell_type": "code",
   "execution_count": null,
   "id": "0f7e14d8",
   "metadata": {},
   "outputs": [],
   "source": []
  }
 ],
 "metadata": {
  "kernelspec": {
   "display_name": "Python 3 (ipykernel)",
   "language": "python",
   "name": "python3"
  },
  "language_info": {
   "codemirror_mode": {
    "name": "ipython",
    "version": 3
   },
   "file_extension": ".py",
   "mimetype": "text/x-python",
   "name": "python",
   "nbconvert_exporter": "python",
   "pygments_lexer": "ipython3",
   "version": "3.11.5"
  }
 },
 "nbformat": 4,
 "nbformat_minor": 5
}
